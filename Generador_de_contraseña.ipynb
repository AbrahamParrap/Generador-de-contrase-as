{
  "nbformat": 4,
  "nbformat_minor": 0,
  "metadata": {
    "colab": {
      "provenance": [],
      "authorship_tag": "ABX9TyM0ifc8qobcrP6C17DON92+",
      "include_colab_link": true
    },
    "kernelspec": {
      "name": "python3",
      "display_name": "Python 3"
    },
    "language_info": {
      "name": "python"
    }
  },
  "cells": [
    {
      "cell_type": "markdown",
      "metadata": {
        "id": "view-in-github",
        "colab_type": "text"
      },
      "source": [
        "<a href=\"https://colab.research.google.com/github/AbrahamParrap/Generador-de-contrase-as/blob/main/Generador_de_contrase%C3%B1a.ipynb\" target=\"_parent\"><img src=\"https://colab.research.google.com/assets/colab-badge.svg\" alt=\"Open In Colab\"/></a>"
      ]
    },
    {
      "cell_type": "code",
      "execution_count": 1,
      "metadata": {
        "colab": {
          "base_uri": "https://localhost:8080/"
        },
        "id": "k5L-qhhAP3MY",
        "outputId": "1e671b44-927e-4f36-c1a9-e29cd288db1f"
      },
      "outputs": [
        {
          "output_type": "stream",
          "name": "stdout",
          "text": [
            "4z9P_v{X\n"
          ]
        }
      ],
      "source": [
        "#generador de contraseñas\n",
        "import re\n",
        "import secrets\n",
        "import string\n",
        "\n",
        "def generar_contraseña(longitud, nums, caracteres_especiales, mayusculas, minusculas):\n",
        "    # Define los posibles caracteres para la contraseña\n",
        "    letras = string.ascii_letters\n",
        "    digitos = string.digits\n",
        "    simbolos = string.punctuation\n",
        "\n",
        "    # Combina todos los caracteres\n",
        "    todos_los_caracteres = letras + digitos + simbolos\n",
        "\n",
        "    while True:\n",
        "        contraseña = ''\n",
        "        # Genera la contraseña\n",
        "        for _ in range(longitud):\n",
        "            contraseña += secrets.choice(todos_los_caracteres)\n",
        "\n",
        "        restricciones = [\n",
        "            (nums, r'\\d'),\n",
        "            (minusculas, r'[a-z]'),\n",
        "            (mayusculas, r'[A-Z]'),\n",
        "            (caracteres_especiales, fr'[{simbolos}]')\n",
        "        ]\n",
        "\n",
        "        # Verifica las restricciones\n",
        "        count = 0\n",
        "        for restriccion, patron in restricciones:\n",
        "            if restriccion <= len(re.findall(patron, contraseña)):\n",
        "                count += 1\n",
        "\n",
        "        if count == 4:\n",
        "            break\n",
        "\n",
        "    return contraseña\n",
        "\n",
        "nueva_contraseña = generar_contraseña(8, 2, 2, 2, 2)\n",
        "print(nueva_contraseña)\n"
      ]
    },
    {
      "cell_type": "code",
      "source": [
        "def main():\n",
        "  print('Bienvenidos al generador automatico de contraseña en google colab y python')\n",
        "  longitud = input('Digite la longitud de su contraseña: ')\n",
        "  numeros = input('Digite la cantidad de numeros que desea: ')\n",
        "  caracteres_especiales = input('Digite la cantidad de caracteres especiales que desea en su contraseña: ')\n",
        "  mayusculas = input('Digite la cantidad de mayusculas que desea en su contraseña: ')\n",
        "  minusculas = input('Digite la cantidad de minusculas que desea en su contraseña: ')\n",
        "\n",
        "  if longitud.isdigit() and numeros.isdigit() and caracteres_especiales.isdigit() and mayusculas.isdigit() and minusculas.isdigit():\n",
        "    long = int(longitud)\n",
        "    nums = int(numeros)\n",
        "    chars = int(caracteres_especiales)\n",
        "    mayus = int(mayusculas)\n",
        "    minus = int(minusculas)\n",
        "    password = generar_contraseña(long, nums, chars, mayus, minus)\n",
        "    print(f'La nueva contraseña generada es: {password}')\n",
        "  else:\n",
        "    print('Favor escribir numeros enteross')\n",
        "    main()"
      ],
      "metadata": {
        "id": "VRbZH3Vy_JCS"
      },
      "execution_count": 6,
      "outputs": []
    },
    {
      "cell_type": "code",
      "source": [
        "main()"
      ],
      "metadata": {
        "colab": {
          "base_uri": "https://localhost:8080/"
        },
        "id": "B0WqfquzFde4",
        "outputId": "8cc0cdee-c5b5-4410-aef4-13b2e3321d7d"
      },
      "execution_count": 8,
      "outputs": [
        {
          "output_type": "stream",
          "name": "stdout",
          "text": [
            "Bienvenidos al generador automatico de contraseña en google colab y python\n",
            "Digite la longitud de su contraseña: 10\n",
            "Digite la cantidad de numeros que desea: 3\n",
            "Digite la cantidad de caracteres especiales que desea en su contraseña: 3\n",
            "Digite la cantidad de mayusculas que desea en su contraseña: 2\n",
            "Digite la cantidad de minusculas que desea en su contraseña: 2\n",
            "La nueva contraseña generada es: 1y}t[U*83Q\n"
          ]
        }
      ]
    },
    {
      "cell_type": "code",
      "source": [],
      "metadata": {
        "id": "eF5i5BKsQHSM"
      },
      "execution_count": null,
      "outputs": []
    }
  ]
}